{
 "cells": [
  {
   "cell_type": "code",
   "execution_count": 1,
   "id": "3c9c6e3c-11ef-47a6-b727-e250043861de",
   "metadata": {},
   "outputs": [],
   "source": [
    "import os\n",
    "import torch\n",
    "import torch.nn as nn\n",
    "import torch.optim as optim\n",
    "from torch.utils.data import DataLoader, random_split, Subset\n",
    "from torchvision import datasets, transforms, models\n",
    "import numpy as np\n",
    "from tqdm import tqdm \n",
    "import pandas as pd\n",
    "import random\n",
    "from PIL import Image, ImageOps\n",
    "from torchvision.transforms import functional as F"
   ]
  },
  {
   "cell_type": "code",
   "execution_count": 2,
   "id": "077f2dce-cffa-4faa-b90f-42ea68246ff0",
   "metadata": {},
   "outputs": [],
   "source": [
    "# 데이터 경로 설정\n",
    "train_dir = \"/test/final_exam/challenge/train\"\n",
    "augmented_dir = \"/home/student/workspace/data\"\n",
    "\n",
    "os.makedirs(augmented_dir, exist_ok=True)\n"
   ]
  },
  {
   "cell_type": "code",
   "execution_count": 20,
   "id": "fd0d1038-33d2-4994-9d2c-93c989ec724e",
   "metadata": {},
   "outputs": [],
   "source": [
    "# 증강 함수 정의\n",
    "def augment_images(class_path, save_path, min_count=300):\n",
    "    images = [f for f in os.listdir(class_path) if f.endswith(\".jpg\") or f.endswith(\".png\")]\n",
    "    \n",
    "    # 원본 이미지 불러오기\n",
    "    image_paths = [os.path.join(class_path, img) for img in images]\n",
    "    augmented_images = []\n",
    "\n",
    "    # 좌우 반전\n",
    "    for img_path in image_paths:\n",
    "        with Image.open(img_path) as img:\n",
    "            flipped = ImageOps.mirror(img)\n",
    "            augmented_images.append(flipped)\n",
    "            augmented_images.append(img.copy())\n",
    "\n",
    "    # 랜덤 회전 (시계방향 & 반시계방향 45도 이내)\n",
    "    final_images = []\n",
    "    for img in augmented_images:\n",
    "        for _ in range(2):\n",
    "            angle = random.uniform(-45, 45)\n",
    "            rotated = img.rotate(angle)\n",
    "            final_images.append(rotated)\n",
    "\n",
    "    # 이미지 저장 (최소 100장 확보)\n",
    "    while len(final_images) < min_count:\n",
    "        for img in augmented_images:\n",
    "            angle = random.uniform(-45, 45)\n",
    "            rotated = img.rotate(angle)\n",
    "            final_images.append(rotated)\n",
    "            if len(final_images) >= min_count:\n",
    "                break\n",
    "\n",
    "    # 저장\n",
    "    os.makedirs(save_path, exist_ok=True)\n",
    "    for idx, img in enumerate(final_images):\n",
    "        img.save(os.path.join(save_path, f\"aug_{idx}.jpg\"))\n"
   ]
  },
  {
   "cell_type": "code",
   "execution_count": 21,
   "id": "74ed0e9b-d24d-4937-8778-a20950151417",
   "metadata": {},
   "outputs": [
    {
     "name": "stdout",
     "output_type": "stream",
     "text": [
      "Data augmentation complete.\n"
     ]
    }
   ],
   "source": [
    "# 클래스별 증강 실행\n",
    "for class_name in os.listdir(train_dir):\n",
    "    class_path = os.path.join(train_dir, class_name)\n",
    "    if os.path.isdir(class_path):\n",
    "        save_path = os.path.join(augmented_dir, class_name)\n",
    "        augment_images(class_path, save_path)\n",
    "\n",
    "print(\"Data augmentation complete.\")"
   ]
  }
 ],
 "metadata": {
  "kernelspec": {
   "display_name": "2_pytorch_2.5.1",
   "language": "python",
   "name": "2_pytorch_2.5.1"
  },
  "language_info": {
   "codemirror_mode": {
    "name": "ipython",
    "version": 3
   },
   "file_extension": ".py",
   "mimetype": "text/x-python",
   "name": "python",
   "nbconvert_exporter": "python",
   "pygments_lexer": "ipython3",
   "version": "3.10.16"
  }
 },
 "nbformat": 4,
 "nbformat_minor": 5
}
