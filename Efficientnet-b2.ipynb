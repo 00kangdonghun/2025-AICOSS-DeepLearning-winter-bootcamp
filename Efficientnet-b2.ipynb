{
 "cells": [
  {
   "cell_type": "code",
   "execution_count": 1,
   "id": "eef8620a-38e3-41df-8c4e-e2b0baf147e6",
   "metadata": {},
   "outputs": [],
   "source": [
    "import os\n",
    "import torch\n",
    "import torch.nn as nn\n",
    "import torch.optim as optim\n",
    "from torch.utils.data import DataLoader, random_split, Subset\n",
    "from torchvision import datasets, transforms, models\n",
    "import numpy as np\n",
    "from tqdm import tqdm \n",
    "import pandas as pd\n",
    "import random\n",
    "from PIL import Image, ImageOps\n",
    "from torchvision.transforms import functional as F"
   ]
  },
  {
   "cell_type": "code",
   "execution_count": 2,
   "id": "c800742a-48af-4e5b-83f3-2e31b66515d4",
   "metadata": {},
   "outputs": [],
   "source": [
    "def set_seed(seed):\n",
    "    os.environ['PYTHONHASHSEED'] = str(seed) \n",
    "    random.seed(seed)  \n",
    "    np.random.seed(seed)  \n",
    "    torch.manual_seed(seed)  \n",
    "    torch.cuda.manual_seed(seed)  \n",
    "    torch.cuda.manual_seed_all(seed)  \n",
    "    torch.backends.cudnn.deterministic = True\n",
    "    torch.backends.cudnn.benchmark = False\n"
   ]
  },
  {
   "cell_type": "code",
   "execution_count": 3,
   "id": "4dd4bb06-e2d7-45c7-84db-824c07ed3882",
   "metadata": {},
   "outputs": [],
   "source": [
    "# 데이터셋 로드 및 변환 정의\n",
    "transform = transforms.Compose([\n",
    "    transforms.Resize((224, 224)),  # 크기를 224x224 리사이즈\n",
    "    transforms.ToTensor(),\n",
    "    transforms.Normalize(mean=[0.485, 0.456, 0.406], std=[0.229, 0.224, 0.225])  # 정규화\n",
    "])\n",
    "\n",
    "# 증강된 데이터셋 경로\n",
    "augmented_dir = \"/home/student/workspace/data/train\"\n",
    "\n",
    "dataset = datasets.ImageFolder(root=augmented_dir, transform=transform)\n",
    "\n",
    "# Train/Validation Split\n",
    "train_size = int(0.8 * len(dataset))\n",
    "val_size = len(dataset) - train_size\n",
    "train_dataset, val_dataset = random_split(dataset, [train_size, val_size])\n",
    "\n",
    "# DataLoader 생성\n",
    "batch_size = 32\n",
    "train_loader = DataLoader(train_dataset, batch_size=batch_size, shuffle=True)\n",
    "val_loader = DataLoader(val_dataset, batch_size=batch_size, shuffle=False)\n"
   ]
  },
  {
   "cell_type": "code",
   "execution_count": 4,
   "id": "d08a6244-2bf7-4708-8294-ce2b0e3c6aa9",
   "metadata": {},
   "outputs": [],
   "source": [
    "import torch.nn as nn\n",
    "from torchvision.models import efficientnet_b2\n",
    "\n",
    "# EfficientNet-B2 모델 정의\n",
    "class EfficientNetB2Scratch(nn.Module):\n",
    "    def __init__(self, num_classes=300):  # 클래스 개수를 설정\n",
    "        super(EfficientNetB2Scratch, self).__init__()\n",
    "        self.efficientnet = efficientnet_b2(weights=None)  # Scratch 학습\n",
    "        self.efficientnet.classifier[1] = nn.Linear(self.efficientnet.classifier[1].in_features, num_classes)\n",
    "\n",
    "    def forward(self, x):\n",
    "        return self.efficientnet(x)\n",
    "\n",
    "# 모델 초기화\n",
    "device = torch.device('cuda' if torch.cuda.is_available() else 'cpu')\n",
    "model = EfficientNetB2Scratch(num_classes=300).to(device)\n"
   ]
  },
  {
   "cell_type": "code",
   "execution_count": 5,
   "id": "66f6e147-1532-41d6-afeb-cd03e4cad326",
   "metadata": {},
   "outputs": [],
   "source": [
    "import torch.optim as optim\n",
    "from tqdm import tqdm\n",
    "\n",
    "# 학습 및 검증 함수\n",
    "def train_and_validate(model, train_loader, val_loader, epochs=5):\n",
    "    criterion = nn.CrossEntropyLoss()\n",
    "    optimizer = optim.AdamW(model.parameters(), lr=0.001, weight_decay=1e-4)  # AdamW 옵티마이저\n",
    "    scheduler = optim.lr_scheduler.StepLR(optimizer, step_size=7, gamma=0.1)  # 학습률 스케줄러\n",
    "\n",
    "    best_val_accuracy = 0.0\n",
    "\n",
    "    for epoch in range(epochs):\n",
    "        # ===== 학습 단계 =====\n",
    "        model.train()\n",
    "        train_loss = 0.0\n",
    "        for images, labels in tqdm(train_loader, desc=f\"Epoch {epoch+1}/{epochs} [Training]\"):\n",
    "            images, labels = images.to(device), labels.to(device)\n",
    "\n",
    "            optimizer.zero_grad()\n",
    "            outputs = model(images)\n",
    "            loss = criterion(outputs, labels)\n",
    "            loss.backward()\n",
    "            optimizer.step()\n",
    "\n",
    "            train_loss += loss.item()\n",
    "\n",
    "        # ===== 검증 단계 =====\n",
    "        model.eval()\n",
    "        val_loss = 0.0\n",
    "        correct = 0\n",
    "        total = 0\n",
    "        with torch.no_grad():\n",
    "            for images, labels in tqdm(val_loader, desc=f\"Epoch {epoch+1}/{epochs} [Validation]\"):\n",
    "                images, labels = images.to(device), labels.to(device)\n",
    "                outputs = model(images)\n",
    "                loss = criterion(outputs, labels)\n",
    "                val_loss += loss.item()\n",
    "                _, predicted = torch.max(outputs, 1)\n",
    "                total += labels.size(0)\n",
    "                correct += (predicted == labels).sum().item()\n",
    "\n",
    "        val_accuracy = 100 * correct / total\n",
    "        print(f\"Epoch {epoch+1}/{epochs}: Train Loss = {train_loss/len(train_loader):.4f}, \"\n",
    "              f\"Val Loss = {val_loss/len(val_loader):.4f}, Val Accuracy = {val_accuracy:.2f}%\")\n",
    "\n",
    "        # Best Model 저장\n",
    "        if val_accuracy > best_val_accuracy:\n",
    "            best_val_accuracy = val_accuracy\n",
    "            torch.save(model.state_dict(), 'best_efficientnet_b2_scratch.pth')\n",
    "            print(f\"Best model saved with accuracy: {best_val_accuracy:.2f}%\")\n",
    "\n",
    "        scheduler.step()\n"
   ]
  },
  {
   "cell_type": "code",
   "execution_count": 6,
   "id": "91d7ccce-9d9e-4bbe-8a42-09e9dd9ee604",
   "metadata": {},
   "outputs": [
    {
     "name": "stderr",
     "output_type": "stream",
     "text": [
      "Epoch 1/5 [Training]: 100% 2347/2347 [12:34<00:00,  3.11it/s]\n",
      "Epoch 1/5 [Validation]: 100% 587/587 [02:28<00:00,  3.95it/s]\n"
     ]
    },
    {
     "name": "stdout",
     "output_type": "stream",
     "text": [
      "Epoch 1/5: Train Loss = 4.6663, Val Loss = 4.0111, Val Accuracy = 7.44%\n",
      "Best model saved with accuracy: 7.44%\n"
     ]
    },
    {
     "name": "stderr",
     "output_type": "stream",
     "text": [
      "Epoch 2/5 [Training]: 100% 2347/2347 [12:19<00:00,  3.18it/s]\n",
      "Epoch 2/5 [Validation]: 100% 587/587 [02:29<00:00,  3.91it/s]\n"
     ]
    },
    {
     "name": "stdout",
     "output_type": "stream",
     "text": [
      "Epoch 2/5: Train Loss = 3.7467, Val Loss = 3.1814, Val Accuracy = 19.75%\n",
      "Best model saved with accuracy: 19.75%\n"
     ]
    },
    {
     "name": "stderr",
     "output_type": "stream",
     "text": [
      "Epoch 3/5 [Training]: 100% 2347/2347 [12:18<00:00,  3.18it/s]\n",
      "Epoch 3/5 [Validation]: 100% 587/587 [02:27<00:00,  3.97it/s]\n"
     ]
    },
    {
     "name": "stdout",
     "output_type": "stream",
     "text": [
      "Epoch 3/5: Train Loss = 2.9847, Val Loss = 2.5270, Val Accuracy = 33.57%\n",
      "Best model saved with accuracy: 33.57%\n"
     ]
    },
    {
     "name": "stderr",
     "output_type": "stream",
     "text": [
      "Epoch 4/5 [Training]: 100% 2347/2347 [12:17<00:00,  3.18it/s]\n",
      "Epoch 4/5 [Validation]: 100% 587/587 [02:26<00:00,  4.00it/s]\n"
     ]
    },
    {
     "name": "stdout",
     "output_type": "stream",
     "text": [
      "Epoch 4/5: Train Loss = 2.3142, Val Loss = 1.8324, Val Accuracy = 48.77%\n",
      "Best model saved with accuracy: 48.77%\n"
     ]
    },
    {
     "name": "stderr",
     "output_type": "stream",
     "text": [
      "Epoch 5/5 [Training]: 100% 2347/2347 [12:22<00:00,  3.16it/s]\n",
      "Epoch 5/5 [Validation]: 100% 587/587 [02:29<00:00,  3.93it/s]\n",
      "/tmp/ipykernel_948036/2419695482.py:27: FutureWarning: You are using `torch.load` with `weights_only=False` (the current default value), which uses the default pickle module implicitly. It is possible to construct malicious pickle data which will execute arbitrary code during unpickling (See https://github.com/pytorch/pytorch/blob/main/SECURITY.md#untrusted-models for more details). In a future release, the default value for `weights_only` will be flipped to `True`. This limits the functions that could be executed during unpickling. Arbitrary objects will no longer be allowed to be loaded via this mode unless they are explicitly allowlisted by the user via `torch.serialization.add_safe_globals`. We recommend you start setting `weights_only=True` for any use case where you don't have full control of the loaded file. Please open an issue on GitHub for any issues related to this experimental feature.\n",
      "  model.load_state_dict(torch.load('./best_efficientnet_b2_scratch.pth'))\n"
     ]
    },
    {
     "name": "stdout",
     "output_type": "stream",
     "text": [
      "Epoch 5/5: Train Loss = 1.7426, Val Loss = 1.3563, Val Accuracy = 60.71%\n",
      "Best model saved with accuracy: 60.71%\n"
     ]
    },
    {
     "name": "stderr",
     "output_type": "stream",
     "text": [
      "Testing: 100% 66/66 [00:48<00:00,  1.35it/s]"
     ]
    },
    {
     "name": "stdout",
     "output_type": "stream",
     "text": [
      "Submission file saved as 'submission_efficientnet_b2_scratch.csv'.\n"
     ]
    },
    {
     "name": "stderr",
     "output_type": "stream",
     "text": [
      "\n"
     ]
    }
   ],
   "source": [
    "# Step 1: 모델 학습\n",
    "train_and_validate(model, train_loader, val_loader, epochs=5)\n",
    "\n",
    "# Step 2: 모델 가중치 파일 확인\n",
    "if not os.path.exists('./best_efficientnet_b2_scratch.pth'):\n",
    "    raise FileNotFoundError(\"Model weights file 'best_efficientnet_b2_scratch.pth' not found. Please ensure training is completed.\")\n",
    "\n",
    "# Test data Load\n",
    "import torchvision\n",
    "\n",
    "test_dataset = torchvision.datasets.ImageFolder(root='/test/final_exam/challenge/test', transform=transform)\n",
    "test_loader = torch.utils.data.DataLoader(test_dataset, batch_size=64, shuffle=False)\n",
    "\n",
    "# Step 3: 테스트 단계 실행\n",
    "def test_model(model, test_loader):\n",
    "    model.eval()\n",
    "    predictions = []\n",
    "    with torch.no_grad():\n",
    "        for images, _ in tqdm(test_loader, desc=\"Testing\"):\n",
    "            images = images.to(device)\n",
    "            outputs = model(images)\n",
    "            _, predicted = torch.max(outputs, 1)\n",
    "            predictions.extend(predicted.cpu().numpy())\n",
    "    return predictions\n",
    "\n",
    "# 모델 로드 및 테스트 실행\n",
    "model.load_state_dict(torch.load('./best_efficientnet_b2_scratch.pth'))\n",
    "predictions = test_model(model, test_loader)\n",
    "\n",
    "# Step 4: 제출 파일 생성\n",
    "submission = pd.read_csv('./sample_submission.csv')\n",
    "submission['Label'] = predictions\n",
    "submission.to_csv('./submission_efficientnet_b2_scratch.csv', index=False)\n",
    "print(\"Submission file saved as 'submission_efficientnet_b2_scratch.csv'.\")"
   ]
  }
 ],
 "metadata": {
  "kernelspec": {
   "display_name": "2_pytorch_2.5.1",
   "language": "python",
   "name": "2_pytorch_2.5.1"
  },
  "language_info": {
   "codemirror_mode": {
    "name": "ipython",
    "version": 3
   },
   "file_extension": ".py",
   "mimetype": "text/x-python",
   "name": "python",
   "nbconvert_exporter": "python",
   "pygments_lexer": "ipython3",
   "version": "3.10.16"
  }
 },
 "nbformat": 4,
 "nbformat_minor": 5
}
