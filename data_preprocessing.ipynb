{
 "cells": [
  {
   "cell_type": "code",
   "execution_count": null,
   "id": "acb59624-7903-4668-9601-3962d9d1053f",
   "metadata": {},
   "outputs": [],
   "source": [
    "# 데이터 전처리 코드입니다.\n",
    "\n",
    "\"\"\"\n",
    "- EDA 인사이트\n",
    "1) EDA를 통해 클래스 별 불균형 확인 (가장 큰건 300장이 넘어가지만, 8장의 이미지를 가지는 클래스도 존재)\n",
    "-> 불균형을 고려한 데이터 증강 필요성\n",
    "\n",
    "추가하고 싶은 것) Train 데이터와 test 데이터의 분포 비교. (이거 해도 되는지 모르겠음..)\n",
    "-> intensity, 주파수 영역 분석해서 분포가 비슷한걸 파악함 -> 이미지 분포를 크게 바꾸지 않는 증강만 고려\n",
    "\n",
    "\n",
    "- 전처리 과정: 데이터 불균형을 고려한 데이터 증강\n",
    "1) 클래스가 새, 자동차, 비행기이므로 좌우 반전 증강 가능.\n",
    "\n",
    "2) 클래스가 새, 자동차, 비행기이므로 현실 세계를 고려하여 45도 이내의 시계/ 반시계 방향 랜덤 회전 \n",
    "-> 이렇게 진행 시 모든 데이터 3배 증가함.\n",
    "\n",
    "3) 이렇게 증강해도 300장이 되지 않는 데이터들에 대하여 45도 이내의 시계/ 반시계 방향 랜덤 회전 또 진행\n",
    "-> 가장 작은 클래스도 300장이 넘어가도록 하여 데이터 불균형 해소\n",
    "\n",
    "\"\"\""
   ]
  },
  {
   "cell_type": "code",
   "execution_count": 1,
   "id": "a62f9e61-2b78-4fd7-b457-5f2a1db38fc5",
   "metadata": {},
   "outputs": [],
   "source": [
    "import os\n",
    "import random\n",
    "from PIL import Image, ImageOps\n",
    "from torchvision.transforms import functional as F"
   ]
  },
  {
   "cell_type": "code",
   "execution_count": 2,
   "id": "cfdff72a-4a76-4cb6-9276-fc1a90af7358",
   "metadata": {},
   "outputs": [],
   "source": [
    "# 데이터 경로 설정\n",
    "train_dir = \"/test/final_exam/challenge/train\"\n",
    "augmented_dir = \"dogun_convnext_tiny_try111/dl-bootcamp-2025-challenge_aug/train\"\n",
    "os.makedirs(augmented_dir, exist_ok=True)\n"
   ]
  },
  {
   "cell_type": "code",
   "execution_count": 4,
   "id": "c9c85904-1880-4cde-bcd4-da05459a1e70",
   "metadata": {},
   "outputs": [],
   "source": [
    "# 증강 함수 정의\n",
    "def augment_images(class_path, save_path, min_count=300):\n",
    "    images = [f for f in os.listdir(class_path) if f.endswith(\".jpg\") or f.endswith(\".png\")]\n",
    "    \n",
    "    # 원본 이미지 불러오기\n",
    "    image_paths = [os.path.join(class_path, img) for img in images]\n",
    "    augmented_images = []\n",
    "\n",
    "    # 좌우 반전\n",
    "    for img_path in image_paths:\n",
    "        with Image.open(img_path) as img:\n",
    "            flipped = ImageOps.mirror(img)\n",
    "            augmented_images.append(flipped)\n",
    "            augmented_images.append(img.copy())\n",
    "\n",
    "    # 랜덤 회전 (시계방향 & 반시계방향 45도 이내)\n",
    "    final_images = []\n",
    "    for img in augmented_images:\n",
    "        for _ in range(2):\n",
    "            angle = random.uniform(-45, 45)\n",
    "            rotated = img.rotate(angle)\n",
    "            final_images.append(rotated)\n",
    "\n",
    "    # 이미지 저장 (최소 100장 확보)\n",
    "    while len(final_images) < min_count:\n",
    "        for img in augmented_images:\n",
    "            angle = random.uniform(-45, 45)\n",
    "            rotated = img.rotate(angle)\n",
    "            final_images.append(rotated)\n",
    "            if len(final_images) >= min_count:\n",
    "                break\n",
    "\n",
    "    # 저장\n",
    "    os.makedirs(save_path, exist_ok=True)\n",
    "    for idx, img in enumerate(final_images):\n",
    "        img.save(os.path.join(save_path, f\"aug_{idx}.jpg\"))\n"
   ]
  },
  {
   "cell_type": "code",
   "execution_count": 5,
   "id": "4810ecfd-3d16-41f3-b415-4e9081a6bc89",
   "metadata": {},
   "outputs": [
    {
     "name": "stdout",
     "output_type": "stream",
     "text": [
      "Data augmentation complete.\n"
     ]
    }
   ],
   "source": [
    "# 클래스별 증강 실행\n",
    "for class_name in os.listdir(train_dir):\n",
    "    class_path = os.path.join(train_dir, class_name)\n",
    "    if os.path.isdir(class_path):\n",
    "        save_path = os.path.join(augmented_dir, class_name)\n",
    "        augment_images(class_path, save_path)\n",
    "\n",
    "print(\"Data augmentation complete.\")"
   ]
  },
  {
   "cell_type": "code",
   "execution_count": null,
   "id": "9ffcc877-5998-47fb-b930-5c6688ec1a5e",
   "metadata": {},
   "outputs": [],
   "source": []
  },
  {
   "cell_type": "code",
   "execution_count": null,
   "id": "5e1655f9-0e30-42e8-b0b5-58b32f4bcd29",
   "metadata": {},
   "outputs": [],
   "source": []
  }
 ],
 "metadata": {
  "kernelspec": {
   "display_name": "1_pytorch_2.5.1",
   "language": "python",
   "name": "1_pytorch_2.5.1"
  },
  "language_info": {
   "codemirror_mode": {
    "name": "ipython",
    "version": 3
   },
   "file_extension": ".py",
   "mimetype": "text/x-python",
   "name": "python",
   "nbconvert_exporter": "python",
   "pygments_lexer": "ipython3",
   "version": "3.10.16"
  }
 },
 "nbformat": 4,
 "nbformat_minor": 5
}
